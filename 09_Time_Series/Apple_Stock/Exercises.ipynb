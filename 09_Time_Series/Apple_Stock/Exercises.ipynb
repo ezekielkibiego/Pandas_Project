{
 "cells": [
  {
   "cell_type": "markdown",
   "metadata": {},
   "source": [
    "# Apple Stock"
   ]
  },
  {
   "cell_type": "markdown",
   "metadata": {},
   "source": [
    "### Introduction:\n",
    "\n",
    "We are going to use Apple's stock price.\n",
    "\n",
    "\n",
    "### Step 1. Import the necessary libraries"
   ]
  },
  {
   "cell_type": "code",
   "execution_count": 7,
   "metadata": {
    "collapsed": false
   },
   "outputs": [],
   "source": [
    "import pandas as pd\n",
    "import numpy as np\n"
   ]
  },
  {
   "cell_type": "markdown",
   "metadata": {},
   "source": [
    "### Step 2. Import the dataset from this [address](https://raw.githubusercontent.com/guipsamora/pandas_exercises/master/09_Time_Series/Apple_Stock/appl_1980_2014.csv)"
   ]
  },
  {
   "cell_type": "code",
   "execution_count": 12,
   "metadata": {
    "collapsed": true
   },
   "outputs": [],
   "source": [
    "\n",
    "\n",
    "file_path = 'appl_1980_2014.csv'\n",
    "\n",
    "\n"
   ]
  },
  {
   "cell_type": "markdown",
   "metadata": {},
   "source": [
    "### Step 3. Assign it to a variable apple"
   ]
  },
  {
   "cell_type": "code",
   "execution_count": 15,
   "metadata": {
    "collapsed": false
   },
   "outputs": [
    {
     "name": "stdout",
     "output_type": "stream",
     "text": [
      "            Date   Open   High    Low  Close     Volume  Adj Close\n",
      "0     2014-07-08  96.27  96.80  93.92  95.35   65130000      95.35\n",
      "1     2014-07-07  94.14  95.99  94.10  95.97   56305400      95.97\n",
      "2     2014-07-03  93.67  94.10  93.20  94.03   22891800      94.03\n",
      "3     2014-07-02  93.87  94.06  93.09  93.48   28420900      93.48\n",
      "4     2014-07-01  93.52  94.07  93.13  93.52   38170200      93.52\n",
      "...          ...    ...    ...    ...    ...        ...        ...\n",
      "8460  1980-12-18  26.63  26.75  26.63  26.63   18362400       0.41\n",
      "8461  1980-12-17  25.87  26.00  25.87  25.87   21610400       0.40\n",
      "8462  1980-12-16  25.37  25.37  25.25  25.25   26432000       0.39\n",
      "8463  1980-12-15  27.38  27.38  27.25  27.25   43971200       0.42\n",
      "8464  1980-12-12  28.75  28.87  28.75  28.75  117258400       0.45\n",
      "\n",
      "[8465 rows x 7 columns]\n"
     ]
    }
   ],
   "source": [
    "apple = pd.read_csv(file_path)\n",
    "print(apple)"
   ]
  },
  {
   "cell_type": "markdown",
   "metadata": {},
   "source": [
    "### Step 4.  Check out the type of the columns"
   ]
  },
  {
   "cell_type": "code",
   "execution_count": 16,
   "metadata": {
    "collapsed": false
   },
   "outputs": [
    {
     "name": "stdout",
     "output_type": "stream",
     "text": [
      "Date          object\n",
      "Open         float64\n",
      "High         float64\n",
      "Low          float64\n",
      "Close        float64\n",
      "Volume         int64\n",
      "Adj Close    float64\n",
      "dtype: object\n"
     ]
    }
   ],
   "source": [
    "print(apple.dtypes)"
   ]
  },
  {
   "cell_type": "markdown",
   "metadata": {},
   "source": [
    "### Step 5. Transform the Date column as a datetime type"
   ]
  },
  {
   "cell_type": "code",
   "execution_count": 18,
   "metadata": {
    "collapsed": false
   },
   "outputs": [
    {
     "name": "stdout",
     "output_type": "stream",
     "text": [
      "Date         datetime64[ns]\n",
      "Open                float64\n",
      "High                float64\n",
      "Low                 float64\n",
      "Close               float64\n",
      "Volume                int64\n",
      "Adj Close           float64\n",
      "dtype: object\n"
     ]
    }
   ],
   "source": [
    "apple['Date'] = pd.to_datetime(apple['Date'])\n",
    "\n",
    "print(apple.dtypes)"
   ]
  },
  {
   "cell_type": "markdown",
   "metadata": {},
   "source": [
    "### Step 6.  Set the date as the index"
   ]
  },
  {
   "cell_type": "code",
   "execution_count": 19,
   "metadata": {
    "collapsed": false
   },
   "outputs": [
    {
     "name": "stdout",
     "output_type": "stream",
     "text": [
      "             Open   High    Low  Close     Volume  Adj Close\n",
      "Date                                                        \n",
      "2014-07-08  96.27  96.80  93.92  95.35   65130000      95.35\n",
      "2014-07-07  94.14  95.99  94.10  95.97   56305400      95.97\n",
      "2014-07-03  93.67  94.10  93.20  94.03   22891800      94.03\n",
      "2014-07-02  93.87  94.06  93.09  93.48   28420900      93.48\n",
      "2014-07-01  93.52  94.07  93.13  93.52   38170200      93.52\n",
      "...           ...    ...    ...    ...        ...        ...\n",
      "1980-12-18  26.63  26.75  26.63  26.63   18362400       0.41\n",
      "1980-12-17  25.87  26.00  25.87  25.87   21610400       0.40\n",
      "1980-12-16  25.37  25.37  25.25  25.25   26432000       0.39\n",
      "1980-12-15  27.38  27.38  27.25  27.25   43971200       0.42\n",
      "1980-12-12  28.75  28.87  28.75  28.75  117258400       0.45\n",
      "\n",
      "[8465 rows x 6 columns]\n"
     ]
    }
   ],
   "source": [
    "apple.set_index('Date', inplace=True)\n",
    "\n",
    "print(apple)"
   ]
  },
  {
   "cell_type": "markdown",
   "metadata": {},
   "source": [
    "### Step 7.  Is there any duplicate dates?"
   ]
  },
  {
   "cell_type": "code",
   "execution_count": 25,
   "metadata": {
    "collapsed": false
   },
   "outputs": [
    {
     "name": "stdout",
     "output_type": "stream",
     "text": [
      "No duplicate dates found in the 'Date' column.\n"
     ]
    }
   ],
   "source": [
    "\n",
    "duplicates = apple.duplicated(subset=['Date'])\n",
    "\n",
    "if duplicates.any():\n",
    "    print(\"Duplicate dates found in the 'Date' column.\")\n",
    "else:\n",
    "    print(\"No duplicate dates found in the 'Date' column.\")"
   ]
  },
  {
   "cell_type": "markdown",
   "metadata": {},
   "source": [
    "### Step 8.  Ops...it seems the index is from the most recent date. Make the first entry the oldest date."
   ]
  },
  {
   "cell_type": "code",
   "execution_count": 34,
   "metadata": {
    "collapsed": false
   },
   "outputs": [
    {
     "name": "stdout",
     "output_type": "stream",
     "text": [
      "             Open   High    Low  Close     Volume  Adj Close\n",
      "Date                                                        \n",
      "1980-12-12  28.75  28.87  28.75  28.75  117258400       0.45\n",
      "1980-12-15  27.38  27.38  27.25  27.25   43971200       0.42\n",
      "1980-12-16  25.37  25.37  25.25  25.25   26432000       0.39\n",
      "1980-12-17  25.87  26.00  25.87  25.87   21610400       0.40\n",
      "1980-12-18  26.63  26.75  26.63  26.63   18362400       0.41\n",
      "...           ...    ...    ...    ...        ...        ...\n",
      "2014-07-01  93.52  94.07  93.13  93.52   38170200      93.52\n",
      "2014-07-02  93.87  94.06  93.09  93.48   28420900      93.48\n",
      "2014-07-03  93.67  94.10  93.20  94.03   22891800      94.03\n",
      "2014-07-07  94.14  95.99  94.10  95.97   56305400      95.97\n",
      "2014-07-08  96.27  96.80  93.92  95.35   65130000      95.35\n",
      "\n",
      "[8465 rows x 6 columns]\n"
     ]
    }
   ],
   "source": [
    "apple = pd.read_csv(file_path)\n",
    "apple['Date'] = pd.to_datetime(apple['Date'])\n",
    "\n",
    "apple.set_index('Date', inplace=True)\n",
    "\n",
    "apple.sort_index(ascending=True, inplace=True)\n",
    "\n",
    "print(apple)"
   ]
  },
  {
   "cell_type": "markdown",
   "metadata": {},
   "source": [
    "### Step 9. Get the last business day of each month"
   ]
  },
  {
   "cell_type": "code",
   "execution_count": 35,
   "metadata": {
    "collapsed": false
   },
   "outputs": [
    {
     "name": "stdout",
     "output_type": "stream",
     "text": [
      "              Open    High     Low   Close     Volume  Adj Close\n",
      "Date                                                            \n",
      "1980-12-31   34.25   34.25   34.13   34.13    8937600       0.53\n",
      "1981-01-30   28.50   28.50   28.25   28.25   11547200       0.44\n",
      "1981-02-27   26.50   26.75   26.50   26.50    3690400       0.41\n",
      "1981-03-31   24.75   24.75   24.50   24.50    3998400       0.38\n",
      "1981-04-30   28.38   28.62   28.38   28.38    3152800       0.44\n",
      "...            ...     ...     ...     ...        ...        ...\n",
      "2014-03-31  539.23  540.81  535.93  536.74   42167300      76.25\n",
      "2014-04-30  592.64  599.43  589.80  590.09  114160200      83.83\n",
      "2014-05-30  637.98  644.17  628.90  633.00  141005200      90.43\n",
      "2014-06-30   92.10   93.73   92.09   92.93   49482300      92.93\n",
      "2014-07-31   96.27   96.80   93.92   95.35   65130000      95.35\n",
      "\n",
      "[404 rows x 6 columns]\n"
     ]
    }
   ],
   "source": [
    "last_business_day_per_month = apple.resample('BM').last()\n",
    "\n",
    "print(last_business_day_per_month)"
   ]
  },
  {
   "cell_type": "markdown",
   "metadata": {},
   "source": [
    "### Step 10.  What is the difference in days between the first day and the oldest"
   ]
  },
  {
   "cell_type": "code",
   "execution_count": 38,
   "metadata": {
    "collapsed": false
   },
   "outputs": [
    {
     "name": "stdout",
     "output_type": "stream",
     "text": [
      "The difference in days between the first and oldest dates is: 12261 days.\n"
     ]
    }
   ],
   "source": [
    "first_date = apple.index[0]\n",
    "oldest_date = apple.index[-1]\n",
    "\n",
    "difference_in_days = (oldest_date - first_date).days\n",
    "\n",
    "print(f\"The difference in days between the first and oldest dates is: {difference_in_days} days.\")"
   ]
  },
  {
   "cell_type": "markdown",
   "metadata": {},
   "source": [
    "### Step 11.  How many months in the data we have?"
   ]
  },
  {
   "cell_type": "code",
   "execution_count": 39,
   "metadata": {
    "collapsed": false
   },
   "outputs": [
    {
     "name": "stdout",
     "output_type": "stream",
     "text": [
      "Number of months in the data: 404\n"
     ]
    }
   ],
   "source": [
    "number_of_months = apple.resample('M').size()\n",
    "\n",
    "print(\"Number of months in the data:\", len(number_of_months))"
   ]
  },
  {
   "cell_type": "markdown",
   "metadata": {},
   "source": [
    "### Step 12. Plot the 'Adj Close' value. Set the size of the figure to 13.5 x 9 inches"
   ]
  },
  {
   "cell_type": "code",
   "execution_count": 40,
   "metadata": {
    "collapsed": false
   },
   "outputs": [
    {
     "data": {
      "image/png": "[encoded data removed]",
      "text/plain": [
       "<Figure size 1350x900 with 1 Axes>"
      ]
     },
     "metadata": {},
     "output_type": "display_data"
    }
   ],
   "source": [
    "import matplotlib.pyplot as plt\n",
    "\n",
    "apple['Adj Close'].plot(figsize=(13.5, 9))\n",
    "\n",
    "# Set the labels and title\n",
    "plt.xlabel('Date')\n",
    "plt.ylabel('Adj Close Value')\n",
    "plt.title('Apple Stock - Adj Close Value')\n",
    "\n",
    "# Show the grid\n",
    "plt.grid(True)\n",
    "\n",
    "# Show the plot\n",
    "plt.show()\n"
   ]
  },
  {
   "cell_type": "markdown",
   "metadata": {},
   "source": [
    "### BONUS: Create your own question and answer it."
   ]
  },
  {
   "cell_type": "markdown",
   "metadata": {},
   "source": [
    "### What was the highest closing price (Adj Close) of the Apple stock on July 8th, 2014?"
   ]
  },
  {
   "cell_type": "code",
   "execution_count": 41,
   "metadata": {
    "collapsed": true
   },
   "outputs": [
    {
     "name": "stdout",
     "output_type": "stream",
     "text": [
      "The highest closing price (Adj Close) of the Apple stock on July 8th, 2014 was: 95.35\n"
     ]
    }
   ],
   "source": [
    "closing_price_july_8_2014 = apple.loc['2014-07-08', 'Adj Close']\n",
    "\n",
    "print(\"The highest closing price (Adj Close) of the Apple stock on July 8th, 2014 was:\", closing_price_july_8_2014)"
   ]
  }
 ],
 "metadata": {
  "anaconda-cloud": {},
  "kernelspec": {
   "display_name": "Python 3",
   "language": "python",
   "name": "python3"
  },
  "language_info": {
   "codemirror_mode": {
    "name": "ipython",
    "version": 3
   },
   "file_extension": ".py",
   "mimetype": "text/x-python",
   "name": "python",
   "nbconvert_exporter": "python",
   "pygments_lexer": "ipython3",
   "version": "3.10.10"
  }
 },
 "nbformat": 4,
 "nbformat_minor": 0
}
